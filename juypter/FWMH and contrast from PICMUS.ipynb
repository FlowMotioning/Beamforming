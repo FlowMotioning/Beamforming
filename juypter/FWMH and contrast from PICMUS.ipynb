{
 "cells": [
  {
   "cell_type": "markdown",
   "metadata": {},
   "source": [
    "# Resolution Evaluation\n",
    "\n",
    "This notebook provides the code for the reolution evaluation on a PICMUS real world data-set. Furthermore, there is the contrast evaluation of a circular echoic region.\n",
    "\n",
    "The notebook is layed out in a way that two beamformers are applied to the same data and evaluated using the same metrics. It is recommended to leave the first beamformer as a DAS beamformer to have a baseline and use the beamformer class one wants to scrutinize as the second one."
   ]
  },
  {
   "cell_type": "code",
   "execution_count": null,
   "metadata": {},
   "outputs": [],
   "source": [
    "\"\"\"\n",
    "   Copyright (C) 2021 ETH Zurich. All rights reserved.\n",
    "\n",
    "   Author: Wolfgang Boettcher, ETH Zurich\n",
    "\n",
    "   Licensed under the Apache License, Version 2.0 (the \"License\");\n",
    "   you may not use this file except in compliance with the License.\n",
    "   You may obtain a copy of the License at\n",
    "\n",
    "       http://www.apache.org/licenses/LICENSE-2.0\n",
    "\n",
    "   Unless required by applicable law or agreed to in writing, software\n",
    "   distributed under the License is distributed on an \"AS IS\" BASIS,\n",
    "   WITHOUT WARRANTIES OR CONDITIONS OF ANY KIND, either express or implied.\n",
    "   See the License for the specific language governing permissions and\n",
    "   limitations under the License.\n",
    "\"\"\"\n",
    "\n",
    "import os\n",
    "from os.path import abspath\n",
    "from os.path import dirname as up\n",
    "import numpy as np\n",
    "import sys\n",
    "\n",
    "%matplotlib ipympl"
   ]
  },
  {
   "cell_type": "code",
   "execution_count": null,
   "metadata": {},
   "outputs": [],
   "source": [
    "# path_to_lib = os.path.abspath(\"__file__\")\n",
    "path_to_lib = up(up(up(up(up(os.path.abspath(\"__file__\"))))))\n",
    "sys.path.insert(0, path_to_lib)\n",
    "# os.path.dirname(os.path.abspath(\"__file__\"))\n",
    "from pybf.pybf.io_interfaces import DataLoader\n",
    "from pybf.scripts.beamformer_DAS_ref import BFCartesianReference\n",
    "from pybf.scripts.beamformer_mvbf_spatial_smooth import BFMVBFspatial\n",
    "from pybf.scripts.beamformer_mvbf_DCR import BFMVBFdcr\n",
    "from pybf.pybf.image_settings import ImageSettings\n",
    "from pybf.pybf.visualization import plot_image\n",
    "from pybf.scripts.picmus_eval import PicmusEval\n",
    "\n",
    "'juypter\\pybf\\tests\\data\\Picmus\\contrast_speckle\\rf_dataset.hdf5'"
   ]
  },
  {
   "cell_type": "markdown",
   "metadata": {},
   "source": [
    "### Import data"
   ]
  },
  {
   "cell_type": "code",
   "execution_count": null,
   "metadata": {},
   "outputs": [],
   "source": [
    "dataset_path_resolution = path_to_lib + '/pybf/tests/data/Picmus/resolution_distorsion/rf_dataset.hdf5'\n",
    "data_loader_obj_resolution = DataLoader(dataset_path_resolution)"
   ]
  },
  {
   "cell_type": "markdown",
   "metadata": {},
   "source": [
    " ### Image settings\n",
    "  \n",
    "For some beamformers evaluated in the project, the tx_strategy needs to be set up in a way that at least two plane waves need to be emitted from different angles."
   ]
  },
  {
   "cell_type": "code",
   "execution_count": null,
   "metadata": {},
   "outputs": [],
   "source": [
    "### Specify Image settings and create corresponding object ###\n",
    "\n",
    "img_res = [400, 600]\n",
    "image_x_range = [-0.019, 0.019]\n",
    "image_z_range = [0.005, 0.05]\n",
    "\n",
    "db_range = 50\n",
    "\n",
    "LATERAL_PIXEL_DENSITY_DEFAULT = 5\n",
    "\n",
    "img_config = ImageSettings(image_x_range[0],\n",
    "                           image_x_range[1],\n",
    "                           image_z_range[0],\n",
    "                           image_z_range[1],\n",
    "                           LATERAL_PIXEL_DENSITY_DEFAULT,\n",
    "                           data_loader_obj_resolution.transducer)\n",
    "\n",
    "### Specify preprocessing parameters for RF data ###\n",
    "\n",
    "decimation_factor = 1\n",
    "interpolation_factor = 10\n",
    "\n",
    "### Specify TX strategy and Apodization parameters ###\n",
    "\n",
    "start_time = 0\n",
    "correction_time_shift = 0\n",
    "\n",
    "alpha_fov_apod = 40\n",
    "\n",
    "# 1 Plane waves with inclination angle 0\n",
    "# tx_strategy = ['PW_75_16', [16]]\n",
    "# 4 Plane waves with different but symmetrical inclination angles\n",
    "tx_strategy = ['PW_4_2.1', [data_loader_obj_resolution.tx_strategy[1][33], data_loader_obj_resolution.tx_strategy[1][37], data_loader_obj_resolution.tx_strategy[1][38], data_loader_obj_resolution.tx_strategy[1][42]]]\n",
    "rf_data_shape = (len(tx_strategy[1]),) + data_loader_obj_resolution.get_rf_data(0, 0).shape\n",
    "rf_data = np.zeros(rf_data_shape)\n",
    "inclin_index = np.asarray([33, 37, 38, 42])\n",
    "for i in range(rf_data.shape[0]):\n",
    "    rf_data[i, :, :] = data_loader_obj_resolution.get_rf_data(0, inclin_index[i])\n",
    "\n",
    "### Specify Sampling Frequency ###\n",
    "\n",
    "SAMPLING_FREQ = 20.832 * (10 ** 6)\n",
    "\n",
    "filters_params = [1 * 10 **6, 8 * 10 **6, 0.5 * 10 **6]\n"
   ]
  },
  {
   "cell_type": "markdown",
   "metadata": {},
   "source": [
    " ## Instantiate beamformers"
   ]
  },
  {
   "cell_type": "code",
   "execution_count": null,
   "metadata": {},
   "outputs": [],
   "source": [
    "print(\"  Beamformer 1 \\n-------------------------------------\")\n",
    "bf = BFCartesianReference(data_loader_obj_resolution.f_sampling,\n",
    "                         tx_strategy,\n",
    "                         data_loader_obj_resolution.transducer,\n",
    "                         decimation_factor,\n",
    "                         interpolation_factor,\n",
    "                         img_res,\n",
    "                         img_config,\n",
    "                         start_time=start_time,\n",
    "                         correction_time_shift=correction_time_shift,\n",
    "                         alpha_fov_apod=alpha_fov_apod,\n",
    "                         bp_filter_params=filters_params,\n",
    "                         envelope_detector='I_Q',\n",
    "                         picmus_dataset=True,\n",
    "                         channel_reduction=32)                           # Enter number of active receive channels here\n",
    "print(\"------------------------------------- \\n  Beamformer 2 \\n-------------------------------------\")\n",
    "bf2 = BFMVBFdcr(data_loader_obj_resolution.f_sampling,\n",
    "                         tx_strategy,\n",
    "                         data_loader_obj_resolution.transducer,\n",
    "                         decimation_factor,\n",
    "                         interpolation_factor,\n",
    "                         img_res,\n",
    "                         img_config,\n",
    "                         start_time=start_time,\n",
    "                         correction_time_shift=correction_time_shift,\n",
    "                         alpha_fov_apod=alpha_fov_apod,\n",
    "                         bp_filter_params=filters_params,\n",
    "                         envelope_detector='I_Q',\n",
    "                         picmus_dataset=True,\n",
    "                         channel_reduction=32,                           # Enter number of active receive channels here\n",
    "                         window_width=16)                                # Enter width of sliding window here when using\n",
    "                                                                         # spatial smoothing"
   ]
  },
  {
   "cell_type": "markdown",
   "metadata": {},
   "source": [
    " ## Beamform\n",
    " \n",
    " Performs the beamforming for the whole image\n",
    " \n",
    " **Note:** This part of the code is by far the most computationally expensive step. Beamforming using a MVBF beamformer can take several minutes (up to approx. 20 minutes) if a high number of channels is used!"
   ]
  },
  {
   "cell_type": "code",
   "execution_count": null,
   "metadata": {},
   "outputs": [],
   "source": [
    "print(\"  Beamformer 1 \\n-------------------------------------\")\n",
    "img_data = bf.beamform(rf_data, numba_active=True)\n",
    "print(\"------------------------------------- \\n  Beamformer 2 \\n-------------------------------------\")\n",
    "img_data2 = bf2.beamform(rf_data, numba_active=False)"
   ]
  },
  {
   "cell_type": "markdown",
   "metadata": {},
   "source": [
    "## Evaluations\n",
    "\n",
    "For both beamformers the Full-Width at Half-Maximum (FWHM) metric is calculated for a number of predefined scatterers in the test data in meters.\n",
    "\n",
    "### Eval DAS [bf1]"
   ]
  },
  {
   "cell_type": "code",
   "execution_count": null,
   "metadata": {},
   "outputs": [],
   "source": [
    "eval_obj = PicmusEval(img_data, bf)\n",
    "circle_pos = np.asarray([[-0.0105, 0.0281, 0.007, 0.004]])\n",
    "CNR_values = eval_obj.evaluate_circ_contrast(circle_pos)\n",
    "\n",
    "scatterer_pos = np.asarray([[-0.001, 0.018, 0.001, 0.001],\n",
    "                            [-0.001, 0.0277, 0.001, 0.001],\n",
    "                            [0.0001, 0.0375, 0.001, 0.001],\n",
    "                           [-0.0104, 0.0375, 0.001, 0.001],\n",
    "                           [0.0095, 0.0375, 0.001, 0.001]])\n",
    "FWHM_x, FWHM_y = eval_obj.evaluate_FWHM(scatterer_pos,is_plot=True, plot_name=\"FWHM_eval\")"
   ]
  },
  {
   "cell_type": "code",
   "execution_count": null,
   "metadata": {},
   "outputs": [],
   "source": [
    "print(\"CNR values are [dB]:\")\n",
    "print(str(CNR_values) + \"\\n\")\n",
    "print(\"x-axis FWHM values are [m]:\")\n",
    "print(str(FWHM_x))\n",
    "print(\"z-axis FWHM values are [m]:\")\n",
    "print(str(FWHM_y))"
   ]
  },
  {
   "cell_type": "markdown",
   "metadata": {},
   "source": [
    "### Eval MVBF [bf2]"
   ]
  },
  {
   "cell_type": "code",
   "execution_count": null,
   "metadata": {},
   "outputs": [],
   "source": [
    "eval_obj2 = PicmusEval(img_data2, bf)\n",
    "CNR_values2 = eval_obj2.evaluate_circ_contrast(circle_pos)\n",
    "FWHM_x2, FWHM_y2 = eval_obj2.evaluate_FWHM(scatterer_pos)"
   ]
  },
  {
   "cell_type": "code",
   "execution_count": null,
   "metadata": {},
   "outputs": [],
   "source": [
    "print(\"CNR values are [dB]:\")\n",
    "print(str(CNR_values2) + \"\\n\")\n",
    "print(\"x-axis FWHM values are [m]:\")\n",
    "print(str(FWHM_x2))\n",
    "print(\"z-axis FWHM values are [m]:\")\n",
    "print(str(FWHM_y2))"
   ]
  },
  {
   "cell_type": "markdown",
   "metadata": {},
   "source": [
    " ### Visualize - DAS [bf]"
   ]
  },
  {
   "cell_type": "code",
   "execution_count": null,
   "metadata": {},
   "outputs": [],
   "source": [
    "plot_image(np.abs(img_data), \n",
    "               scatters_coords_xz=None,\n",
    "               elements_coords_xz=None,\n",
    "               framework='matplotlib',\n",
    "               title='DAS',\n",
    "               image_x_range=image_x_range,\n",
    "               image_z_range=image_z_range,\n",
    "               db_range=db_range,\n",
    "               colorscale='Greys',\n",
    "               save_fig=False, \n",
    "               show=True,\n",
    "               path_to_save='.')\n"
   ]
  },
  {
   "cell_type": "markdown",
   "metadata": {},
   "source": [
    "### Visualize - MVBF [bf2]"
   ]
  },
  {
   "cell_type": "code",
   "execution_count": null,
   "metadata": {},
   "outputs": [],
   "source": [
    "plot_image(np.abs(img_data2), \n",
    "               scatters_coords_xz=None,\n",
    "               elements_coords_xz=None,\n",
    "               framework='matplotlib',\n",
    "               title='MVBFdcr',\n",
    "               image_x_range=image_x_range,\n",
    "               image_z_range=image_z_range,\n",
    "               db_range=db_range,\n",
    "               colorscale='Greys',\n",
    "               save_fig=False, \n",
    "               show=True,\n",
    "               path_to_save='.')"
   ]
  },
  {
   "cell_type": "code",
   "execution_count": null,
   "metadata": {},
   "outputs": [],
   "source": []
  }
 ],
 "metadata": {
  "kernelspec": {
   "display_name": "Python 3",
   "language": "python",
   "name": "python3"
  },
  "language_info": {
   "codemirror_mode": {
    "name": "ipython",
    "version": 3
   },
   "file_extension": ".py",
   "mimetype": "text/x-python",
   "name": "python",
   "nbconvert_exporter": "python",
   "pygments_lexer": "ipython3",
   "version": "3.9.18"
  },
  "metadata": {
   "interpreter": {
    "hash": "c193b63540162a46520756c94a243c79332f74735cd43f30c94b10dc688bdd9b"
   }
  }
 },
 "nbformat": 4,
 "nbformat_minor": 2
}
